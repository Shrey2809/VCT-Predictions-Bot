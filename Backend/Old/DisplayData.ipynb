{
 "cells": [
  {
   "cell_type": "code",
   "execution_count": 2,
   "metadata": {},
   "outputs": [],
   "source": [
    "import pandas as pd\n",
    "import discord, csv, sqlite3, sys, json, requests\n",
    "from datetime import datetime"
   ]
  },
  {
   "cell_type": "code",
   "execution_count": 3,
   "metadata": {},
   "outputs": [],
   "source": [
    "MASTERS_TOKYO_PATH  = \"Records\\Masters Tokyo Predictions.xlsm\"\n",
    "raw_dataframe = pd.read_excel(MASTERS_TOKYO_PATH).sort_values(\"Total\", ascending=False)\n",
    "raw_dataframe = raw_dataframe[raw_dataframe[\"Name\"] != \"Max Points\"]\n",
    "raw_dataframe[\"Rank\"] = range(1, len(raw_dataframe) + 1)\n"
   ]
  },
  {
   "cell_type": "code",
   "execution_count": 4,
   "metadata": {},
   "outputs": [],
   "source": [
    "def get_df_based_on_name(rawdf, name):\n",
    "    filtered_df = rawdf[rawdf['Name'] == name]\n",
    "    filtered_df = filtered_df[[\"Rank\", \"Name\", \"Total\"]]\n",
    "    return filtered_df"
   ]
  },
  {
   "cell_type": "code",
   "execution_count": 9,
   "metadata": {},
   "outputs": [
    {
     "name": "stdout",
     "output_type": "stream",
     "text": [
      "18\n"
     ]
    }
   ],
   "source": [
    "testdf = get_df_based_on_name(raw_dataframe, \"axon319\")\n",
    "\n",
    "print(testdf[\"Rank\"].values[0])"
   ]
  }
 ],
 "metadata": {
  "kernelspec": {
   "display_name": "Python 3",
   "language": "python",
   "name": "python3"
  },
  "language_info": {
   "codemirror_mode": {
    "name": "ipython",
    "version": 3
   },
   "file_extension": ".py",
   "mimetype": "text/x-python",
   "name": "python",
   "nbconvert_exporter": "python",
   "pygments_lexer": "ipython3",
   "version": "3.9.8"
  },
  "orig_nbformat": 4,
  "vscode": {
   "interpreter": {
    "hash": "f92ccd7b06eb6a3e7e8394ab52e87fa0e4b9e77dbec4b61245d5c0bee2758c1f"
   }
  }
 },
 "nbformat": 4,
 "nbformat_minor": 2
}
